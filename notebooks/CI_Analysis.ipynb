{
 "cells": [
  {
   "cell_type": "code",
   "execution_count": 9,
   "id": "f071f99b-1d79-48f1-ac6a-3f46304562c2",
   "metadata": {},
   "outputs": [],
   "source": [
    "import pandas as pd\n",
    "import numpy as np"
   ]
  },
  {
   "cell_type": "code",
   "execution_count": 17,
   "id": "a6005dca-77a5-4dde-9541-3e5a2b600a47",
   "metadata": {},
   "outputs": [],
   "source": [
    "df = pd.read_excel(r\"C:\\Users\\eugin\\OneDrive\\Документы\\Traning\\POWER_BI\\MF_Training\\PROJECTS\\Mock_Sales\\Project_1_2023_Mock_Set\\Sales_Report_Slim.xlsx\")"
   ]
  },
  {
   "cell_type": "code",
   "execution_count": 21,
   "id": "9257b378-d38d-4d6c-b699-d406eb6b18ad",
   "metadata": {},
   "outputs": [
    {
     "data": {
      "text/html": [
       "<div>\n",
       "<style scoped>\n",
       "    .dataframe tbody tr th:only-of-type {\n",
       "        vertical-align: middle;\n",
       "    }\n",
       "\n",
       "    .dataframe tbody tr th {\n",
       "        vertical-align: top;\n",
       "    }\n",
       "\n",
       "    .dataframe thead th {\n",
       "        text-align: right;\n",
       "    }\n",
       "</style>\n",
       "<table border=\"1\" class=\"dataframe\">\n",
       "  <thead>\n",
       "    <tr style=\"text-align: right;\">\n",
       "      <th></th>\n",
       "      <th>Date</th>\n",
       "      <th>Revenue</th>\n",
       "    </tr>\n",
       "  </thead>\n",
       "  <tbody>\n",
       "    <tr>\n",
       "      <th>0</th>\n",
       "      <td>2023-01-01</td>\n",
       "      <td>7690.51</td>\n",
       "    </tr>\n",
       "    <tr>\n",
       "      <th>1</th>\n",
       "      <td>2023-01-01</td>\n",
       "      <td>2386.64</td>\n",
       "    </tr>\n",
       "    <tr>\n",
       "      <th>2</th>\n",
       "      <td>2023-01-01</td>\n",
       "      <td>3680.78</td>\n",
       "    </tr>\n",
       "    <tr>\n",
       "      <th>3</th>\n",
       "      <td>2023-01-01</td>\n",
       "      <td>6213.88</td>\n",
       "    </tr>\n",
       "    <tr>\n",
       "      <th>4</th>\n",
       "      <td>2023-01-01</td>\n",
       "      <td>8205.46</td>\n",
       "    </tr>\n",
       "  </tbody>\n",
       "</table>\n",
       "</div>"
      ],
      "text/plain": [
       "        Date  Revenue\n",
       "0 2023-01-01  7690.51\n",
       "1 2023-01-01  2386.64\n",
       "2 2023-01-01  3680.78\n",
       "3 2023-01-01  6213.88\n",
       "4 2023-01-01  8205.46"
      ]
     },
     "execution_count": 21,
     "metadata": {},
     "output_type": "execute_result"
    }
   ],
   "source": [
    "df.head()"
   ]
  },
  {
   "cell_type": "code",
   "execution_count": 23,
   "id": "559f4f29-6148-4d40-806f-e97c3de41522",
   "metadata": {},
   "outputs": [],
   "source": [
    "# Ensure datetime\n",
    "df['Date'] = pd.to_datetime(df['Date'], errors='coerce')\n",
    "df = df.dropna(subset=['Date'])"
   ]
  },
  {
   "cell_type": "code",
   "execution_count": 25,
   "id": "808f8159-b594-4f97-9282-688278248684",
   "metadata": {},
   "outputs": [],
   "source": [
    "# Confidence interval prep\n",
    "df['Month'] = df['Date'].dt.to_period('M')\n",
    "monthly = df.groupby('Month')['Revenue'].sum().reset_index()\n",
    "monthly['Month'] = monthly['Month'].dt.to_timestamp()"
   ]
  },
  {
   "cell_type": "code",
   "execution_count": 27,
   "id": "737ae8c3-cb42-4f6b-bb62-3028cf5f25eb",
   "metadata": {},
   "outputs": [],
   "source": [
    "monthly['RollingMean'] = monthly['Revenue'].rolling(window=3).mean()\n",
    "monthly['RollingStd'] = monthly['Revenue'].rolling(window=3).std()"
   ]
  },
  {
   "cell_type": "code",
   "execution_count": 29,
   "id": "5c795b9f-89e1-40ed-a21f-d67baaff70b3",
   "metadata": {},
   "outputs": [],
   "source": [
    "monthly['CI_Upper'] = monthly['RollingMean'] + 1.96 * monthly['RollingStd']\n",
    "monthly['CI_Lower'] = monthly['RollingMean'] - 1.96 * monthly['RollingStd']"
   ]
  },
  {
   "cell_type": "code",
   "execution_count": 31,
   "id": "2d44d196-2370-4e31-a88b-7e0d458fcb19",
   "metadata": {},
   "outputs": [],
   "source": [
    "# Optional labeling for Matrix\n",
    "monthly['CI_Flag'] = monthly.apply(\n",
    "    lambda row: 'Above CI' if row['Revenue'] > row['CI_Upper']\n",
    "    else 'Below CI' if row['Revenue'] < row['CI_Lower']\n",
    "    else 'Within CI',\n",
    "    axis=1\n",
    ")"
   ]
  },
  {
   "cell_type": "code",
   "execution_count": 35,
   "id": "6e4869ea",
   "metadata": {},
   "outputs": [
    {
     "data": {
      "text/html": [
       "<div>\n",
       "<style scoped>\n",
       "    .dataframe tbody tr th:only-of-type {\n",
       "        vertical-align: middle;\n",
       "    }\n",
       "\n",
       "    .dataframe tbody tr th {\n",
       "        vertical-align: top;\n",
       "    }\n",
       "\n",
       "    .dataframe thead th {\n",
       "        text-align: right;\n",
       "    }\n",
       "</style>\n",
       "<table border=\"1\" class=\"dataframe\">\n",
       "  <thead>\n",
       "    <tr style=\"text-align: right;\">\n",
       "      <th></th>\n",
       "      <th>Month</th>\n",
       "      <th>Revenue</th>\n",
       "      <th>RollingMean</th>\n",
       "      <th>RollingStd</th>\n",
       "      <th>CI_Upper</th>\n",
       "      <th>CI_Lower</th>\n",
       "      <th>CI_Flag</th>\n",
       "    </tr>\n",
       "  </thead>\n",
       "  <tbody>\n",
       "    <tr>\n",
       "      <th>0</th>\n",
       "      <td>2023-01-01</td>\n",
       "      <td>864262.97</td>\n",
       "      <td>NaN</td>\n",
       "      <td>NaN</td>\n",
       "      <td>NaN</td>\n",
       "      <td>NaN</td>\n",
       "      <td>Within CI</td>\n",
       "    </tr>\n",
       "    <tr>\n",
       "      <th>1</th>\n",
       "      <td>2023-02-01</td>\n",
       "      <td>672499.73</td>\n",
       "      <td>NaN</td>\n",
       "      <td>NaN</td>\n",
       "      <td>NaN</td>\n",
       "      <td>NaN</td>\n",
       "      <td>Within CI</td>\n",
       "    </tr>\n",
       "    <tr>\n",
       "      <th>2</th>\n",
       "      <td>2023-03-01</td>\n",
       "      <td>657819.71</td>\n",
       "      <td>731527.470000</td>\n",
       "      <td>115186.416157</td>\n",
       "      <td>957292.845667</td>\n",
       "      <td>505762.094333</td>\n",
       "      <td>Within CI</td>\n",
       "    </tr>\n",
       "    <tr>\n",
       "      <th>3</th>\n",
       "      <td>2023-04-01</td>\n",
       "      <td>726656.34</td>\n",
       "      <td>685658.593333</td>\n",
       "      <td>36255.857052</td>\n",
       "      <td>756720.073156</td>\n",
       "      <td>614597.113511</td>\n",
       "      <td>Within CI</td>\n",
       "    </tr>\n",
       "    <tr>\n",
       "      <th>4</th>\n",
       "      <td>2023-05-01</td>\n",
       "      <td>754676.69</td>\n",
       "      <td>713050.913333</td>\n",
       "      <td>49841.241656</td>\n",
       "      <td>810739.746978</td>\n",
       "      <td>615362.079688</td>\n",
       "      <td>Within CI</td>\n",
       "    </tr>\n",
       "  </tbody>\n",
       "</table>\n",
       "</div>"
      ],
      "text/plain": [
       "       Month    Revenue    RollingMean     RollingStd       CI_Upper  \\\n",
       "0 2023-01-01  864262.97            NaN            NaN            NaN   \n",
       "1 2023-02-01  672499.73            NaN            NaN            NaN   \n",
       "2 2023-03-01  657819.71  731527.470000  115186.416157  957292.845667   \n",
       "3 2023-04-01  726656.34  685658.593333   36255.857052  756720.073156   \n",
       "4 2023-05-01  754676.69  713050.913333   49841.241656  810739.746978   \n",
       "\n",
       "        CI_Lower    CI_Flag  \n",
       "0            NaN  Within CI  \n",
       "1            NaN  Within CI  \n",
       "2  505762.094333  Within CI  \n",
       "3  614597.113511  Within CI  \n",
       "4  615362.079688  Within CI  "
      ]
     },
     "execution_count": 35,
     "metadata": {},
     "output_type": "execute_result"
    }
   ],
   "source": [
    "monthly.head()"
   ]
  },
  {
   "cell_type": "code",
   "execution_count": 44,
   "id": "91f93915-bea9-401e-86e9-a9a49df23b3a",
   "metadata": {},
   "outputs": [],
   "source": [
    "# Saving file\n",
    "from pathlib import Path\n",
    "\n",
    "target_dir = Path(r\"C:\\Users\\eugin\\OneDrive\\Документы\\Traning\\POWER_BI\\MF_Training\\PROJECTS\\Mock_Sales\\Project_1_2023_Mock_Set\")\n",
    "file_path = target_dir / \"CI_Analysis.csv\"\n",
    "monthly.to_csv(file_path, index=False)"
   ]
  },
  {
   "cell_type": "code",
   "execution_count": null,
   "id": "aad83f98-64c4-4c1d-9555-67e8150fbbfa",
   "metadata": {},
   "outputs": [],
   "source": [
    "\n"
   ]
  },
  {
   "cell_type": "code",
   "execution_count": null,
   "id": "a5e53d61-d45f-46d4-a6f1-c7b70ca47f49",
   "metadata": {},
   "outputs": [],
   "source": []
  }
 ],
 "metadata": {
  "kernelspec": {
   "display_name": "Python [conda env:base] *",
   "language": "python",
   "name": "conda-base-py"
  },
  "language_info": {
   "codemirror_mode": {
    "name": "ipython",
    "version": 3
   },
   "file_extension": ".py",
   "mimetype": "text/x-python",
   "name": "python",
   "nbconvert_exporter": "python",
   "pygments_lexer": "ipython3",
   "version": "3.12.7"
  }
 },
 "nbformat": 4,
 "nbformat_minor": 5
}
